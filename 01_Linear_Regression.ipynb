{
 "cells": [
  {
   "cell_type": "markdown",
   "metadata": {},
   "source": [
    "## CHAPTER 1\n",
    "---\n",
    "# LINEAR REGRESSION"
   ]
  },
  {
   "cell_type": "markdown",
   "metadata": {},
   "source": [
    "---\n",
    "## PART A. PYTHON MACHINE LEARNING COOKBOOK, CHAP. 1\n",
    "### Introduction\n",
    "\n",
    "- **Supervised learning**: building a machine learning model that is based on labeled samples\n",
    "\n",
    "- **Unsupervised learning**: there is no labeled data available"
   ]
  },
  {
   "cell_type": "markdown",
   "metadata": {},
   "source": [
    "## 1.1 Buiding a Linear Regressor"
   ]
  },
  {
   "cell_type": "markdown",
   "metadata": {},
   "source": [
    "- The linear regression method consists of precisely identifying a line that is capable of representing point distribution in a two-dimensional plane\n",
    "- There is only one mathematical model, out of an infinite number of lines, that optimizes the representation of the given data\n",
    "- **Ordinary least squares**: the coefficients are estimated by determining numerical values that minimize the sum of the squared deviations between the observed responses and the fitted responses\n",
    "- **Our task in this section:** is to use the data in *VehiclesItaly.txt* to find the linear regression relation between the vehicle registrations (X) in a state and the population (y) of a state. "
   ]
  },
  {
   "cell_type": "code",
   "execution_count": 1,
   "metadata": {},
   "outputs": [],
   "source": [
    "filename = \"data/VehiclesItaly.txt\"\n",
    "\n",
    "X = []\n",
    "y = []\n",
    "with open(filename, 'r') as f:\n",
    "    for line in f.readlines():\n",
    "        xt, yt = [float(i) for i in line.split(',')]\n",
    "        X.append(xt)\n",
    "        y.append(yt)\n",
    "        \n",
    "# Train/test split\n",
    "num_training = int(0.8 * len(X))\n",
    "num_test = len(X) - num_training"
   ]
  },
  {
   "cell_type": "code",
   "execution_count": 2,
   "metadata": {},
   "outputs": [
    {
     "data": {
      "text/html": [
       "<div>\n",
       "<style scoped>\n",
       "    .dataframe tbody tr th:only-of-type {\n",
       "        vertical-align: middle;\n",
       "    }\n",
       "\n",
       "    .dataframe tbody tr th {\n",
       "        vertical-align: top;\n",
       "    }\n",
       "\n",
       "    .dataframe thead th {\n",
       "        text-align: right;\n",
       "    }\n",
       "</style>\n",
       "<table border=\"1\" class=\"dataframe\">\n",
       "  <thead>\n",
       "    <tr style=\"text-align: right;\">\n",
       "      <th></th>\n",
       "      <th>X</th>\n",
       "      <th>Y</th>\n",
       "    </tr>\n",
       "  </thead>\n",
       "  <tbody>\n",
       "    <tr>\n",
       "      <th>0</th>\n",
       "      <td>145263</td>\n",
       "      <td>127329</td>\n",
       "    </tr>\n",
       "    <tr>\n",
       "      <th>1</th>\n",
       "      <td>204477</td>\n",
       "      <td>312027</td>\n",
       "    </tr>\n",
       "    <tr>\n",
       "      <th>2</th>\n",
       "      <td>361034</td>\n",
       "      <td>573694</td>\n",
       "    </tr>\n",
       "    <tr>\n",
       "      <th>3</th>\n",
       "      <td>616716</td>\n",
       "      <td>891181</td>\n",
       "    </tr>\n",
       "    <tr>\n",
       "      <th>4</th>\n",
       "      <td>885665</td>\n",
       "      <td>1059114</td>\n",
       "    </tr>\n",
       "  </tbody>\n",
       "</table>\n",
       "</div>"
      ],
      "text/plain": [
       "        X        Y\n",
       "0  145263   127329\n",
       "1  204477   312027\n",
       "2  361034   573694\n",
       "3  616716   891181\n",
       "4  885665  1059114"
      ]
     },
     "execution_count": 2,
     "metadata": {},
     "output_type": "execute_result"
    }
   ],
   "source": [
    "# another way of opening the file\n",
    "import pandas as pd\n",
    "vehicles = pd.read_csv(filename, header=None)\n",
    "vehicles.columns = ['X', 'Y']\n",
    "vehicles.head()"
   ]
  },
  {
   "cell_type": "code",
   "execution_count": 3,
   "metadata": {},
   "outputs": [],
   "source": [
    "import numpy as np\n",
    "\n",
    "# Training data\n",
    "X_train = np.array(X[:num_training]).reshape((num_training,1))\n",
    "y_train = np.array(y[:num_training])\n",
    "\n",
    "# Test data\n",
    "X_test = np.array(X[num_training:]).reshape((num_test,1))\n",
    "y_test = np.array(y[num_training:])"
   ]
  },
  {
   "cell_type": "code",
   "execution_count": 4,
   "metadata": {},
   "outputs": [],
   "source": [
    "# Create linear regression object\n",
    "from sklearn import linear_model\n",
    "\n",
    "linear_regressor = linear_model.LinearRegression()\n",
    "\n",
    "# Train the model using the training sets\n",
    "linear_regressor.fit(X_train, y_train)\n",
    "\n",
    "# Predict the output\n",
    "y_train_pred = linear_regressor.predict(X_train)"
   ]
  },
  {
   "cell_type": "code",
   "execution_count": 5,
   "metadata": {},
   "outputs": [
    {
     "data": {
      "image/png": "[encoded data removed]",
      "text/plain": [
       "<Figure size 432x288 with 1 Axes>"
      ]
     },
     "metadata": {
      "needs_background": "light"
     },
     "output_type": "display_data"
    },
    {
     "data": {
      "image/png": "[encoded data removed]",
      "text/plain": [
       "<Figure size 432x288 with 1 Axes>"
      ]
     },
     "metadata": {
      "needs_background": "light"
     },
     "output_type": "display_data"
    }
   ],
   "source": [
    "# Plot outputs\n",
    "import matplotlib.pyplot as plt\n",
    "\n",
    "plt.figure()\n",
    "plt.scatter(X_train, y_train, color='green')\n",
    "plt.plot(X_train, y_train_pred, color='black', linewidth=4)\n",
    "plt.title('Training data')\n",
    "plt.show()\n",
    "\n",
    "y_test_pred = linear_regressor.predict(X_test)\n",
    "plt.figure()\n",
    "plt.scatter(X_test, y_test, color='green')\n",
    "plt.plot(X_test, y_test_pred, color='black', linewidth=4)\n",
    "plt.title('Test data')\n",
    "plt.show()"
   ]
  },
  {
   "cell_type": "markdown",
   "metadata": {},
   "source": [
    "As you might expect, there's a positive association between a state's population and the number of vehicle registrations."
   ]
  },
  {
   "cell_type": "markdown",
   "metadata": {},
   "source": [
    "## 1.2 Computing regression accuracy"
   ]
  },
  {
   "cell_type": "markdown",
   "metadata": {},
   "source": [
    "An error is defined as the difference between the actual value and the value that is predicted by the regressor."
   ]
  },
  {
   "cell_type": "code",
   "execution_count": 6,
   "metadata": {},
   "outputs": [
    {
     "name": "stdout",
     "output_type": "stream",
     "text": [
      "Mean absolute error = 241907.27\n",
      "Mean squared error = 81974851872.13\n",
      "Median absolute error = 240861.94\n",
      "Explained variance score = 0.98\n",
      "R2 score = 0.98\n"
     ]
    }
   ],
   "source": [
    "# Measure performance\n",
    "import sklearn.metrics as sm\n",
    "\n",
    "print(\"Mean absolute error =\", round(sm.mean_absolute_error(y_test, y_test_pred), 2)) \n",
    "print(\"Mean squared error =\", round(sm.mean_squared_error(y_test, y_test_pred), 2)) \n",
    "print(\"Median absolute error =\", round(sm.median_absolute_error(y_test, y_test_pred), 2)) \n",
    "print(\"Explained variance score =\", round(sm.explained_variance_score(y_test, y_test_pred), 2)) \n",
    "print(\"R2 score =\", round(sm.r2_score(y_test, y_test_pred), 2))"
   ]
  },
  {
   "cell_type": "markdown",
   "metadata": {},
   "source": [
    "A good practice is to make sure that the mean squared error is low and the explained variance score is high (which measures how well our model can account for the variation in our dataset.)\n",
    "\n",
    "The *sklearn.metrics* module contains a series of simple functions that measure prediction error:\n",
    "- Functions ending with  _score return a value to maximize; the higher the better\n",
    "- Functions ending with _error or _loss return a value to minimize; the lower the better"
   ]
  },
  {
   "cell_type": "markdown",
   "metadata": {},
   "source": [
    "## 1.3 Achieving model persistence\n",
    "- We want to save our training model as a file so that it can be used later by simply loading it again.\n",
    "- To do this, we can use the pickle module which stores Python objects. "
   ]
  },
  {
   "cell_type": "code",
   "execution_count": 7,
   "metadata": {},
   "outputs": [],
   "source": [
    "# Model persistence\n",
    "import pickle\n",
    "\n",
    "output_model_file = \"code/3_model_linear_regr.pkl\"\n",
    "\n",
    "with open(output_model_file, 'wb') as f:\n",
    "    pickle.dump(linear_regressor, f)"
   ]
  },
  {
   "cell_type": "markdown",
   "metadata": {},
   "source": [
    "- The regressor object is now saved in the 3_model_linear_regr.pkl file, which is inside the 'code' subfolder, in the folder where this notebook is located. \n",
    "- Let's look at how to load it and use it"
   ]
  },
  {
   "cell_type": "code",
   "execution_count": 8,
   "metadata": {},
   "outputs": [
    {
     "name": "stdout",
     "output_type": "stream",
     "text": [
      "New mean absolute error = 241907.27\n"
     ]
    }
   ],
   "source": [
    "with open(output_model_file, 'rb') as f:\n",
    "    model_linregr = pickle.load(f)\n",
    "\n",
    "y_test_pred_new = model_linregr.predict(X_test)\n",
    "print(\"New mean absolute error =\", round(sm.mean_absolute_error(y_test, y_test_pred_new), 2))"
   ]
  },
  {
   "cell_type": "markdown",
   "metadata": {},
   "source": [
    "The *pickle* module transforms an arbitrary Python object into a series of bytes. This process is also called the serialization of the object. The byte stream representing the object can be transmitted or stored, and subsequently rebuilt to create a new object with the same characteristics. The inverse operation is called **unpickling**."
   ]
  },
  {
   "cell_type": "markdown",
   "metadata": {},
   "source": [
    "## 1.4 Building a ridge regressor\n",
    "- One of the main problems of linear regression is that it's sensitive to outliers. \n",
    "- During data collection in the real world, it's quite common to wrongly measure output. \n",
    "- Linear regression uses ordinary least squares, which tries to minimize the squares of errors. \n",
    "- The outliers tend to cause problems because they contribute a lot to the overall error. \n",
    "- This tends to disrupt the entire model.\n",
    "- Ordinary least squares considers *every single data point*, including outliers, when it's building the model. The coefficients are estimated by determining numerical values that minimize the sum of the squared deviations between the observed responses and the fitted responses.\n",
    "- *Ridge, Lasso, and ElasticNet* are some of the most popular biased estimators methods, which are based on regularization and are used to deal with the problems caused by outliers, mainly overfitting.\n",
    "- **Ridge regression** is a regularization method where a penalty, *alpha*, is imposed on the size of the coefficients. "
   ]
  },
  {
   "cell_type": "code",
   "execution_count": 9,
   "metadata": {},
   "outputs": [
    {
     "name": "stdout",
     "output_type": "stream",
     "text": [
      "Mean absolute error = 241907.27\n",
      "Mean squared error = 81974851872.13\n",
      "Median absolute error = 240861.94\n",
      "Explain variance score = 0.98\n",
      "R2 score = 0.98\n"
     ]
    }
   ],
   "source": [
    "from sklearn import linear_model\n",
    "\n",
    "ridge_regressor = linear_model.Ridge(alpha=0.01, \n",
    "                                     fit_intercept=True, \n",
    "                                     max_iter=10000)\n",
    "\n",
    "ridge_regressor.fit(X_train, y_train)\n",
    "\n",
    "y_test_pred_ridge = ridge_regressor.predict(X_test)\n",
    "print( \"Mean absolute error =\", round(sm.mean_absolute_error(y_test, y_test_pred_ridge), 2))\n",
    "print( \"Mean squared error =\", round(sm.mean_squared_error(y_test, y_test_pred_ridge), 2))\n",
    "print( \"Median absolute error =\", round(sm.median_absolute_error(y_test, y_test_pred_ridge), 2))\n",
    "print( \"Explain variance score =\", round(sm.explained_variance_score(y_test, y_test_pred_ridge), 2))\n",
    "print( \"R2 score =\", round(sm.r2_score(y_test, y_test_pred_ridge), 2))"
   ]
  },
  {
   "cell_type": "markdown",
   "metadata": {},
   "source": [
    "These are the exact error metrics that we got on the linear regressor above. Playing with alpha values does nothing to the metrics except on the mean squared error where it goes up just a little bit even after setting alpha to 500. \n",
    "\n",
    "**Note:**\n",
    "- In ridge regression, a scale transformation has a substantial effect. \n",
    "- Therefore, to avoid obtaining different results depending on the predicted scale of measurement, it is advisable to standardize all predictors before estimating the model. "
   ]
  },
  {
   "cell_type": "markdown",
   "metadata": {},
   "source": [
    "## 1.5 Building a polynomial regressor\n",
    "- One of the main constraints of a linear regression model is the fact that it tries to fit a linear function to the input data. \n",
    "- The polynomial regression model overcomes this issue by allowing the function to be a polynomial, thereby increasing the accuracy of the model.\n",
    "- Polynomial models should be applied where the relationship between response and explanatory variables is curvilinear."
   ]
  },
  {
   "cell_type": "code",
   "execution_count": 10,
   "metadata": {},
   "outputs": [
    {
     "data": {
      "text/plain": [
       "<function matplotlib.pyplot.show(*args, **kw)>"
      ]
     },
     "execution_count": 10,
     "metadata": {},
     "output_type": "execute_result"
    },
    {
     "data": {
      "image/png": "[encoded data removed]",
      "text/plain": [
       "<Figure size 432x288 with 1 Axes>"
      ]
     },
     "metadata": {
      "needs_background": "light"
     },
     "output_type": "display_data"
    }
   ],
   "source": [
    "import numpy as np\n",
    "import matplotlib.pyplot as plt\n",
    "\n",
    "Time = np.array([6, 8, 11, 14, 16, 18, 19])\n",
    "Temp = np.array([4, 7, 10, 12, 11.5, 9, 7])\n",
    "\n",
    "plt.figure()\n",
    "plt.plot(Time, Temp, 'bo')\n",
    "plt.xlabel(\"Time\")\n",
    "plt.ylabel(\"Temp\")\n",
    "plt.title('Temperature versus time')\n",
    "plt.show"
   ]
  },
  {
   "cell_type": "code",
   "execution_count": 11,
   "metadata": {
    "scrolled": true
   },
   "outputs": [
    {
     "data": {
      "text/plain": [
       "<function matplotlib.pyplot.show(*args, **kw)>"
      ]
     },
     "execution_count": 11,
     "metadata": {},
     "output_type": "execute_result"
    },
    {
     "data": {
      "image/png": "[encoded data removed]",
      "text/plain": [
       "<Figure size 432x288 with 1 Axes>"
      ]
     },
     "metadata": {
      "needs_background": "light"
     },
     "output_type": "display_data"
    }
   ],
   "source": [
    "beta = np.polyfit(Time, Temp, 2)\n",
    "p = np.poly1d(beta)\n",
    "\n",
    "xp = np.linspace(6, 19, 100)\n",
    "plt.figure()\n",
    "plt.plot(Time, Temp, 'bo', xp, p(xp), '-')\n",
    "plt.xlabel(\"Time\")\n",
    "plt.ylabel(\"Temp\")\n",
    "plt.title('Temperature versus time')\n",
    "plt.show"
   ]
  },
  {
   "cell_type": "markdown",
   "metadata": {},
   "source": [
    "- If we analyze the graph, we can see that the curve fits our data sufficiently. \n",
    "- This model fits the data to a greater extent than a simple linear regression model. \n",
    "- In regression analysis, it's important to keep the order of the model as low as possible. \n",
    "- In the first analysis, we keep the model as a first order polynomial. \n",
    "- If this is not satisfactory, then a second-order polynomial is tried. \n",
    "- The use of higher-order polynomials can lead to incorrect evaluations."
   ]
  },
  {
   "cell_type": "markdown",
   "metadata": {},
   "source": [
    "## 1.6 Estimating housing prices\n",
    "- Let's apply all these principles to estimate house prices. \n",
    "- This is one of the most popular examples that is used to understand regression, and it serves as a good entry point. \n",
    "- This is intuitive and relatable, hence making it easier to understand the concepts before we perform more complex things in machine learning. \n",
    "- We will use a decision tree regressor with AdaBoost to solve this problem.\n",
    "    - A decision tree is a tree where each node makes a simple decision that contributes to the final output. \n",
    "    - *AdaBoost* stands for adaptive boosting, and this is a technique that is used to boost the accuracy of the results from another system."
   ]
  },
  {
   "cell_type": "code",
   "execution_count": 12,
   "metadata": {},
   "outputs": [],
   "source": [
    "import numpy as np\n",
    "from sklearn.ensemble import AdaBoostRegressor\n",
    "from sklearn.tree import DecisionTreeRegressor\n",
    "from sklearn import datasets\n",
    "from sklearn.metrics import mean_squared_error, explained_variance_score\n",
    "from sklearn.utils import shuffle\n",
    "import matplotlib.pyplot as plt"
   ]
  },
  {
   "cell_type": "code",
   "execution_count": 13,
   "metadata": {},
   "outputs": [],
   "source": [
    "# load the data from Scikit-Learn\n",
    "housing_data = datasets.load_boston()\n",
    "\n",
    "# separate labels and target, and shuffle the ordering\n",
    "X, y = shuffle(housing_data.data, housing_data.target, random_state=7)"
   ]
  },
  {
   "cell_type": "markdown",
   "metadata": {},
   "source": [
    "- The sklearn.utils.shuffle() function shuffles arrays or sparse matrices in a consistent way to do random permutations of collections. \n",
    "- Shuffling data reduces variance and makes sure that the patterns remain general and less overfitted. \n",
    "- The random_state parameter controls how we shuffle data so that we can have reproducible results. "
   ]
  },
  {
   "cell_type": "code",
   "execution_count": 14,
   "metadata": {},
   "outputs": [
    {
     "name": "stdout",
     "output_type": "stream",
     "text": [
      "Decision Tree Performance\n",
      "-------------------------\n",
      "Mean squared error = 14.79\n",
      "Explained variance score = 0.82\n"
     ]
    }
   ],
   "source": [
    "# divide data into 80% training and 20% testing\n",
    "num_training = int(0.8 * len(X))\n",
    "X_train, y_train = X[:num_training], y[:num_training]\n",
    "X_test, y_test = X[num_training:], y[num_training:]\n",
    "\n",
    "# fit a decision tree regression model\n",
    "dt_regressor = DecisionTreeRegressor(max_depth=4)\n",
    "dt_regressor.fit(X_train, y_train)\n",
    "\n",
    "# fit the model with AdaBoost\n",
    "ab_regressor = AdaBoostRegressor(DecisionTreeRegressor(max_depth=4), \n",
    "                                 n_estimators=400, random_state=7)\n",
    "ab_regressor.fit(X_train, y_train)\n",
    "\n",
    "# evaluate the performance of dt-regressor\n",
    "y_pred_dt = dt_regressor.predict(X_test)\n",
    "mse = mean_squared_error(y_test, y_pred_dt)\n",
    "evs = explained_variance_score(y_test, y_pred_dt)\n",
    "\n",
    "print(\"Decision Tree Performance\")\n",
    "print('-'* len('Decision Tree Performance'))\n",
    "print(\"Mean squared error =\", round(mse, 2))\n",
    "print(\"Explained variance score =\", round(evs, 2))"
   ]
  },
  {
   "cell_type": "code",
   "execution_count": 15,
   "metadata": {},
   "outputs": [
    {
     "name": "stdout",
     "output_type": "stream",
     "text": [
      "AdaBoost performance\n",
      "--------------------\n",
      "Mean squared error = 7.54\n",
      "Explained variance score = 0.91\n"
     ]
    }
   ],
   "source": [
    "# let's evaluate the performance of AdaBoost\n",
    "y_pred_ab = ab_regressor.predict(X_test)\n",
    "mse = mean_squared_error(y_test, y_pred_ab)\n",
    "evs = explained_variance_score(y_test, y_pred_ab)\n",
    "print(\"AdaBoost performance\")\n",
    "print('-'* len('AdaBoost performance'))\n",
    "print(\"Mean squared error =\", round(mse, 2))\n",
    "print(\"Explained variance score =\", round(evs, 2))"
   ]
  },
  {
   "cell_type": "markdown",
   "metadata": {},
   "source": [
    "The error is lower and the variance score is closer to 1 when we use AdaBoost, as shown in the preceding output.\n",
    "\n",
    "An AdaBoost regressor is a meta-estimator that starts by equipping a regressor on the actual dataset and adding additional copies of the regressor on the same dataset, but where the weights of instances are adjusted according to the error of the current prediction. As such, consecutive regressors look at difficult cases. This will help us compare the results and see how AdaBoost really boosts the performance of a decision tree regressor."
   ]
  },
  {
   "cell_type": "markdown",
   "metadata": {},
   "source": [
    "## 1.7 Computing the relative importance of features\n",
    "- In this case, we used 13 input features with unequal contribution to the output. \n",
    "- In case we want to discard some of them later, we need to know which features are less important. \n",
    "- We have this functionality available in scikit-learn, *feature_importances_*."
   ]
  },
  {
   "cell_type": "code",
   "execution_count": 16,
   "metadata": {},
   "outputs": [
    {
     "data": {
      "text/plain": [
       "array([ 0.5,  1.5,  2.5,  3.5,  4.5,  5.5,  6.5,  7.5,  8.5,  9.5, 10.5,\n",
       "       11.5, 12.5])"
      ]
     },
     "execution_count": 16,
     "metadata": {},
     "output_type": "execute_result"
    }
   ],
   "source": [
    "# extract decision tree feature importance\n",
    "DTFImp= dt_regressor.feature_importances_\n",
    "DTFImp= 100.0 * (DTFImp / max(DTFImp))\n",
    "index_sorted = np.flipud(np.argsort(DTFImp))\n",
    "pos = np.arange(index_sorted.shape[0]) + 0.5\n",
    "pos"
   ]
  },
  {
   "cell_type": "markdown",
   "metadata": {},
   "source": [
    "- To compare the results, the importance values have been normalized so that they range between 0 and 100. \n",
    "- Then, we ordered the index values and turned them upside down so that they are arranged in descending order of importance. \n",
    "- Finally, for display purposes, the location of the labels on the x-axis has been centered."
   ]
  },
  {
   "cell_type": "code",
   "execution_count": 17,
   "metadata": {},
   "outputs": [
    {
     "data": {
      "image/png": "[encoded data removed]",
      "text/plain": [
       "<Figure size 432x288 with 1 Axes>"
      ]
     },
     "metadata": {
      "needs_background": "light"
     },
     "output_type": "display_data"
    }
   ],
   "source": [
    "# plot the bar graph for visualization of results\n",
    "plt.figure()\n",
    "plt.bar(pos, DTFImp[index_sorted], align='center')\n",
    "plt.xticks(pos, housing_data.feature_names[index_sorted])\n",
    "plt.ylabel('Relative Importance')\n",
    "plt.title(\"Decision Tree regressor\")\n",
    "plt.show()"
   ]
  },
  {
   "cell_type": "code",
   "execution_count": 18,
   "metadata": {},
   "outputs": [
    {
     "data": {
      "image/png": "[encoded data removed]",
      "text/plain": [
       "<Figure size 432x288 with 1 Axes>"
      ]
     },
     "metadata": {
      "needs_background": "light"
     },
     "output_type": "display_data"
    }
   ],
   "source": [
    "# extract and plot feature importance for AdaBoost\n",
    "ABFImp= ab_regressor.feature_importances_ \n",
    "ABFImp= 100.0 * (ABFImp / max(ABFImp))\n",
    "index_sorted = np.flipud(np.argsort(ABFImp))\n",
    "pos = np.arange(index_sorted.shape[0]) + 0.5\n",
    "\n",
    "plt.figure()\n",
    "plt.bar(pos, ABFImp[index_sorted], align='center')\n",
    "plt.xticks(pos, housing_data.feature_names[index_sorted])\n",
    "plt.ylabel('Relative Importance')\n",
    "plt.title(\"AdaBoost regressor\")\n",
    "plt.show()"
   ]
  },
  {
   "cell_type": "markdown",
   "metadata": {},
   "source": [
    "- So, the decision tree regressor says that the most important feature is RM.\n",
    "- According to AdaBoost, the most important feature is LSTAT. \n",
    "- In reality, if you build various regressors on this data, you will see that the most important feature is in fact LSTAT. \n",
    "- This shows the advantage of using AdaBoost with a decision tree-based regressor."
   ]
  },
  {
   "cell_type": "markdown",
   "metadata": {},
   "source": [
    "1.8 Estimating bicycle demand distribution"
   ]
  }
 ],
 "metadata": {
  "kernelspec": {
   "display_name": "Python 3",
   "language": "python",
   "name": "python3"
  },
  "language_info": {
   "codemirror_mode": {
    "name": "ipython",
    "version": 3
   },
   "file_extension": ".py",
   "mimetype": "text/x-python",
   "name": "python",
   "nbconvert_exporter": "python",
   "pygments_lexer": "ipython3",
   "version": "3.7.7"
  }
 },
 "nbformat": 4,
 "nbformat_minor": 4
}
