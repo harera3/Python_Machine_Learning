{
 "cells": [
  {
   "cell_type": "markdown",
   "metadata": {},
   "source": [
    "## CHAPTER 2\n",
    "---\n",
    "# CONSTRUCTING A CLASSIFIER"
   ]
  },
  {
   "cell_type": "markdown",
   "metadata": {},
   "source": [
    "---\n",
    "### Introduction\n",
    "- **Classification:** the process of using the characteristics of data to separate it into a certain number of classes\n",
    "- A supervised learning classifier builds a model using labeled training data and then uses this model to classify unknown data\n",
    "- Classification can be either binary, separating data into two classes, or  multi-class, separating data into more than two classes\n",
    "\n",
    "## 2.1 Building a Simple Classifier\n",
    "- The goal of a classifier is to establish the classification criterion to maximize performance. \n",
    "- Its performance is measured by evaluating the capacity for generalization. \n",
    "- Generalization means attributing the correct class to each new experimental observation. \n",
    "- Let's learn how to build a simple classifier"
   ]
  },
  {
   "cell_type": "code",
   "execution_count": 1,
   "metadata": {},
   "outputs": [
    {
     "data": {
      "image/png": "[encoded data removed]",
      "text/plain": [
       "<Figure size 432x288 with 1 Axes>"
      ]
     },
     "metadata": {
      "needs_background": "light"
     },
     "output_type": "display_data"
    }
   ],
   "source": [
    "# import the libraries\n",
    "import numpy as np\n",
    "import matplotlib.pyplot as plt\n",
    "\n",
    "# create a dataset\n",
    "X = np.array([[3,1], [2,5], [1,8], [6,4], [5,2], [3,5], [4,7], [4,-1]])\n",
    "\n",
    "# assign some labels to these points\n",
    "y = [0, 1, 1, 0, 0, 1, 1, 0]\n",
    "\n",
    "# separate data into two classes based on the labels\n",
    "class_0 = np.array([X[i] for i in range(len(X)) if y[i]==0])\n",
    "class_1 = np.array([X[i] for i in range(len(X)) if y[i]==1])\n",
    "\n",
    "# plot the data to explore\n",
    "plt.figure()\n",
    "plt.scatter(class_0[:,0], class_0[:,1], color='black', marker='s')\n",
    "plt.scatter(class_1[:,0], class_1[:,1], color='black', marker='x')\n",
    "plt.show()"
   ]
  },
  {
   "cell_type": "markdown",
   "metadata": {},
   "source": [
    "- This is a scatterplot, where we use squares and crosses to plot the points. \n",
    "- The marker parameter specifies the shape you want to use. \n",
    "- We used squares to denote points in class_0 and crosses to denote points in class_1.\n",
    "- Let's draw a line in between the datapoints"
   ]
  },
  {
   "cell_type": "code",
   "execution_count": 2,
   "metadata": {},
   "outputs": [
    {
     "data": {
      "image/png": "[encoded data removed]",
      "text/plain": [
       "<Figure size 432x288 with 1 Axes>"
      ]
     },
     "metadata": {
      "needs_background": "light"
     },
     "output_type": "display_data"
    }
   ],
   "source": [
    "# create a separating line\n",
    "line_x = range(10)\n",
    "line_y = line_x\n",
    "\n",
    "# visualize again\n",
    "plt.figure()\n",
    "plt.scatter(class_0[:,0], class_0[:,1], color='black', marker='s')\n",
    "plt.scatter(class_1[:,0], class_1[:,1], color='black', marker='x')\n",
    "plt.plot(line_x, line_y, color='black', linewidth=3)\n",
    "plt.show()\n"
   ]
  },
  {
   "cell_type": "markdown",
   "metadata": {},
   "source": [
    "- We built a simple classifier using the following rule—the input point (a, b) belongs to class_0 if a is greater than or equal to b; otherwise, it belongs to class_1. \n",
    "- Inspecting the points one by one, leads to this conclusion. \n",
    "- That's it! We just built a linear classifier that can classify unknown data. \n",
    "- It's a linear classifier because the separating line is a straight line. \n",
    "- If it's a curve, then it becomes a nonlinear classifier."
   ]
  },
  {
   "cell_type": "markdown",
   "metadata": {},
   "source": [
    "## 2.2 Building a Logistic Regression Classifier\n",
    "- Despite the word regression being present in the name, logistic regression is actually used for classification purposes. \n",
    "- Logistic regression is a non-linear regression model used when the dependent variable is dichotomous. \n",
    "- The purpose is to establish the probability with which an observation can generate one or the other value of the dependent variable; it can also be used to classify observations, according to their characteristics, into two categories. "
   ]
  },
  {
   "cell_type": "code",
   "execution_count": 3,
   "metadata": {},
   "outputs": [
    {
     "data": {
      "text/plain": [
       "LogisticRegression(C=100)"
      ]
     },
     "execution_count": 3,
     "metadata": {},
     "output_type": "execute_result"
    }
   ],
   "source": [
    "import numpy as np\n",
    "from sklearn import linear_model\n",
    "import matplotlib.pyplot as plt\n",
    "X = np.array([[4, 7], [3.5, 8], [3.1, 6.2], [0.5, 1], \n",
    "              [1, 2], [1.2, 1.9], [6, 2], [5.7, 1.5], [5.4, 2.2]])\n",
    "y = np.array([0, 0, 0, 1, 1, 1, 2, 2, 2])\n",
    "\n",
    "# initialize the logistic regression\n",
    "classifier = linear_model.LogisticRegression(solver='lbfgs', C=100)\n",
    "\n",
    "# train the classifier\n",
    "classifier.fit(X, y)"
   ]
  },
  {
   "cell_type": "markdown",
   "metadata": {},
   "source": [
    "- There are a number of input parameters that can be specified for the preceding function, but a couple of important ones are solver and C. \n",
    "- The solver parameter specifies the type of solver that the algorithm will use to solve the system of equations. \n",
    "- The C parameter controls the regularization strength. A lower value indicates higher regularization strength.\n",
    "- We want to draw datapoints and boundaries, \n",
    "    - first we define the ranges to plot the diagram\n",
    "    - second, we evaluate the function across a grid of points and plot it"
   ]
  },
  {
   "cell_type": "code",
   "execution_count": 4,
   "metadata": {},
   "outputs": [],
   "source": [
    "# define data ranges for plotting\n",
    "x_min, x_max = min(X[:, 0]) - 1.0, max(X[:, 0]) + 1.0\n",
    "y_min, y_max = min(X[:, 1]) - 1.0, max(X[:, 1]) + 1.0\n",
    "\n",
    "# denotes the step size that will be used in the mesh grid\n",
    "step_size = 0.01\n",
    "\n",
    "# define the mesh grid\n",
    "x_values, y_values = np.meshgrid(np.arange(x_min, x_max, step_size), np.arange(y_min, y_max, step_size))\n",
    "\n",
    "# compute the classifier output\n",
    "mesh_output = classifier.predict(np.c_[x_values.ravel(), y_values.ravel()])\n",
    "\n",
    "# reshape the array\n",
    "mesh_output = mesh_output.reshape(x_values.shape)"
   ]
  },
  {
   "cell_type": "code",
   "execution_count": 5,
   "metadata": {},
   "outputs": [
    {
     "data": {
      "image/png": "[encoded data removed]",
      "text/plain": [
       "<Figure size 432x288 with 1 Axes>"
      ]
     },
     "metadata": {
      "needs_background": "light"
     },
     "output_type": "display_data"
    }
   ],
   "source": [
    "# Plot the output using a colored plot \n",
    "plt.figure() \n",
    "\n",
    "# choose a color scheme\n",
    "plt.pcolormesh(x_values, y_values, mesh_output, cmap=plt.cm.gray)\n",
    "\n",
    "# Overlay the training points on the plot \n",
    "plt.scatter(X[:, 0], X[:, 1], c=y, s=80, edgecolors='black', linewidth=1, cmap=plt.cm.Paired)\n",
    "\n",
    "# specify the boundaries of the figure\n",
    "plt.xlim(x_values.min(), x_values.max())\n",
    "plt.ylim(y_values.min(), y_values.max())\n",
    "\n",
    "# specify the ticks on the X and Y axes\n",
    "plt.xticks((np.arange(int(min(X[:, 0])-1), int(max(X[:, 0])+1), 1.0)))\n",
    "plt.yticks((np.arange(int(min(X[:, 1])-1), int(max(X[:, 1])+1), 1.0)))\n",
    "\n",
    "plt.show()"
   ]
  },
  {
   "cell_type": "markdown",
   "metadata": {},
   "source": [
    "- Here, plt.scatter plots the points on the 2D graph. \n",
    "- X[:, 0] specifies that we should take all the values along the 0 axis (the x axis in our case), and X[:, 1] specifies axis 1 (the y axis). \n",
    "- The c=y parameter indicates the color sequence. We use the target labels to map to colors using cmap. \n",
    "- Basically, we want different colors that are based on the target labels. Hence, we use y as the mapping. \n",
    "- The limits of the display figure are set using plt.xlim and plt.ylim. \n",
    "- In order to mark the axes with values, we need to use plt.xticks and plt.yticks. \n",
    "- These functions mark the axes with values so that it's easier for us to see where the points are located. \n",
    "- In the preceding code, we want the ticks to lie between the minimum and maximum values with a buffer of one unit. \n",
    "- Also, we want these ticks to be integers. So, we use the int() function to round off the values."
   ]
  },
  {
   "cell_type": "markdown",
   "metadata": {},
   "source": [
    "## 2.3 Building a Naive Bayes classifier\n",
    "-  A Naive Bayes classifier is a supervised learning classifier that uses Bayes' theorem to build the model.\n",
    "- The underlying principle of a Bayesian classifier is that some individuals belong to a class of interest with a given probability based on some observations. \n",
    "- This probability is based on the assumption that the characteristics observed can be either dependent or independent from one another; in this second case, the Bayesian classifier is called Naive because it assumes that the presence or absence of a particular characteristic in a given class of interest is not related to the presence or absence of other characteristics, greatly simplifying the calculation. \n",
    "- Let's go ahead and build a Naive Bayes classifier."
   ]
  },
  {
   "cell_type": "code",
   "execution_count": 1,
   "metadata": {},
   "outputs": [],
   "source": [
    "import numpy as np\n",
    "import matplotlib.pyplot as plt\n",
    "from sklearn.naive_bayes import GaussianNB"
   ]
  },
  {
   "cell_type": "code",
   "execution_count": null,
   "metadata": {},
   "outputs": [],
   "source": []
  }
 ],
 "metadata": {
  "kernelspec": {
   "display_name": "Python 3",
   "language": "python",
   "name": "python3"
  },
  "language_info": {
   "codemirror_mode": {
    "name": "ipython",
    "version": 3
   },
   "file_extension": ".py",
   "mimetype": "text/x-python",
   "name": "python",
   "nbconvert_exporter": "python",
   "pygments_lexer": "ipython3",
   "version": "3.7.7"
  }
 },
 "nbformat": 4,
 "nbformat_minor": 4
}
